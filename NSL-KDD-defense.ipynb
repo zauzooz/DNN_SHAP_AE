{
 "cells": [
  {
   "cell_type": "code",
   "execution_count": null,
   "metadata": {},
   "outputs": [],
   "source": [
    "from defense.generate_dataset import generate_defense_set, generate_testset\n",
    "import tensorflow as tf\n",
    "import pandas as pd\n",
    "import numpy as np\n",
    "from art.estimators.classification import TensorFlowV2Classifier\n",
    "from evaluation_metric import evaluate_metric"
   ]
  },
  {
   "cell_type": "markdown",
   "metadata": {},
   "source": [
    "# TRAIN DETECTOR"
   ]
  },
  {
   "cell_type": "code",
   "execution_count": 10,
   "metadata": {},
   "outputs": [],
   "source": [
    "# from defense.generate_dataset import generate_dataset\n",
    "\n",
    "samples = pd.read_csv(\"NSL-KDD/samples/samples.csv\").drop(columns=[\"Unnamed: 0\"])\n",
    "y_samples = pd.read_csv(\"NSL-KDD/samples/y_samples.csv\").drop(columns=[\"Unnamed: 0\"])\n",
    "\n",
    "fsgm_samples = pd.read_csv(\"NSL-KDD/samples/attack/FSGM_sample.csv\").drop(columns=[\"Unnamed: 0\"])\n",
    "bim_samples = pd.read_csv(\"NSL-KDD/samples/attack/BIM_sample.csv\").drop(columns=[\"Unnamed: 0\"])\n",
    "cwl2_samples = pd.read_csv(\"NSL-KDD/samples/attack/CW-L2_sample.csv\").drop(columns=[\"Unnamed: 0\"])\n",
    "jsma_samples = pd.read_csv(\"NSL-KDD/samples/attack/JSMA_sample.csv\").drop(columns=[\"Unnamed: 0\"])\n",
    "deepfool_samples = pd.read_csv(\"NSL-KDD/samples/attack/DeepFool_sample.csv\").drop(columns=[\"Unnamed: 0\"])\n",
    "\n",
    "full_features = samples.columns\n",
    "shap_importance_df = pd.read_csv(\"NSL-KDD/samples/shap_importance.csv\").drop(columns=[\"Unnamed: 0\"])\n",
    "selected_features = shap_importance_df.loc[shap_importance_df['shap_importance'] > 0]['column_name'].values\n",
    "shap_importance_feature_values = shap_importance_df.loc[shap_importance_df['shap_importance'] > 0]['shap_importance'].values"
   ]
  },
  {
   "cell_type": "code",
   "execution_count": 11,
   "metadata": {},
   "outputs": [],
   "source": [
    "from imblearn.over_sampling import SMOTE\n",
    "\n",
    "defense_data = generate_defense_set(\n",
    "    samples,\n",
    "    fsgm_samples,\n",
    "    bim_samples,\n",
    "    cwl2_samples,\n",
    "    jsma_samples,\n",
    "    deepfool_samples,\n",
    "    selected_features,\n",
    "    shap_importance_feature_values,\n",
    "    40\n",
    ")\n",
    "from sklearn.model_selection import train_test_split\n",
    "x_defense_train, x_defense_test, y_defense_train, y_defense_test = train_test_split(\n",
    "    defense_data.drop(columns=['label']),\n",
    "    defense_data['label'],\n",
    "    test_size=0.3,\n",
    "    stratify=defense_data['label']\n",
    ")\n",
    "\n",
    "balance_defense = SMOTE(sampling_strategy={0:1750})\n",
    "\n",
    "x_defense_train, y_defense_train = balance_defense.fit_resample(x_defense_train, y_defense_train)\n",
    "\n",
    "x_defense_train = np.reshape(x_defense_train, (x_defense_train.shape[0], x_defense_train.shape[1], 1))\n",
    "x_defense_test = np.reshape(x_defense_test, (x_defense_test.shape[0], x_defense_test.shape[1], 1))\n",
    "y_defense_train = pd.get_dummies(y_defense_train)*1\n",
    "y_defense_test = pd.get_dummies(y_defense_test)*1"
   ]
  },
  {
   "cell_type": "code",
   "execution_count": 12,
   "metadata": {},
   "outputs": [
    {
     "name": "stdout",
     "output_type": "stream",
     "text": [
      "Epoch 1/100\n",
      "219/219 [==============================] - 17s 71ms/step - loss: 0.4775 - accuracy: 0.7731\n",
      "Epoch 2/100\n",
      "219/219 [==============================] - 16s 71ms/step - loss: 0.3847 - accuracy: 0.8434\n",
      "Epoch 3/100\n",
      "219/219 [==============================] - 15s 69ms/step - loss: 0.3598 - accuracy: 0.8520\n",
      "Epoch 4/100\n",
      "219/219 [==============================] - 15s 67ms/step - loss: 0.3457 - accuracy: 0.8571\n",
      "Epoch 5/100\n",
      "219/219 [==============================] - 15s 68ms/step - loss: 0.3334 - accuracy: 0.8643\n",
      "Epoch 6/100\n",
      "219/219 [==============================] - 15s 69ms/step - loss: 0.3206 - accuracy: 0.8689\n",
      "Epoch 7/100\n",
      "219/219 [==============================] - 14s 62ms/step - loss: 0.3270 - accuracy: 0.8691\n",
      "Epoch 8/100\n",
      "219/219 [==============================] - 13s 57ms/step - loss: 0.3096 - accuracy: 0.8751\n",
      "Epoch 9/100\n",
      "219/219 [==============================] - 13s 59ms/step - loss: 0.3070 - accuracy: 0.8746\n",
      "Epoch 10/100\n",
      "219/219 [==============================] - 13s 58ms/step - loss: 0.3056 - accuracy: 0.8766\n",
      "Epoch 11/100\n",
      "219/219 [==============================] - 13s 59ms/step - loss: 0.3043 - accuracy: 0.8771\n",
      "Epoch 12/100\n",
      "219/219 [==============================] - 13s 60ms/step - loss: 0.3041 - accuracy: 0.8806\n",
      "Epoch 13/100\n",
      "219/219 [==============================] - 13s 59ms/step - loss: 0.3056 - accuracy: 0.8763\n",
      "Epoch 14/100\n",
      "219/219 [==============================] - 13s 60ms/step - loss: 0.3033 - accuracy: 0.8794\n",
      "Epoch 15/100\n",
      "219/219 [==============================] - 13s 58ms/step - loss: 0.3000 - accuracy: 0.8774\n",
      "Epoch 16/100\n",
      "219/219 [==============================] - 13s 59ms/step - loss: 0.2881 - accuracy: 0.8871\n",
      "Epoch 17/100\n",
      "219/219 [==============================] - 13s 60ms/step - loss: 0.2894 - accuracy: 0.8860\n",
      "Epoch 18/100\n",
      "219/219 [==============================] - 13s 60ms/step - loss: 0.2802 - accuracy: 0.8911\n",
      "Epoch 19/100\n",
      "219/219 [==============================] - 13s 60ms/step - loss: 0.2823 - accuracy: 0.8886\n",
      "Epoch 20/100\n",
      "219/219 [==============================] - 13s 61ms/step - loss: 0.2895 - accuracy: 0.8834\n",
      "Epoch 21/100\n",
      "219/219 [==============================] - 13s 60ms/step - loss: 0.2795 - accuracy: 0.8886\n",
      "Epoch 22/100\n",
      "219/219 [==============================] - 13s 59ms/step - loss: 0.2766 - accuracy: 0.8894\n",
      "Epoch 23/100\n",
      "219/219 [==============================] - 13s 59ms/step - loss: 0.2700 - accuracy: 0.8963\n",
      "Epoch 24/100\n",
      "219/219 [==============================] - 13s 59ms/step - loss: 0.2695 - accuracy: 0.8934\n",
      "Epoch 25/100\n",
      "219/219 [==============================] - 13s 60ms/step - loss: 0.2698 - accuracy: 0.8940\n",
      "Epoch 26/100\n",
      "219/219 [==============================] - 13s 59ms/step - loss: 0.2681 - accuracy: 0.8937\n",
      "Epoch 27/100\n",
      "219/219 [==============================] - 14s 64ms/step - loss: 0.2701 - accuracy: 0.8951\n",
      "Epoch 28/100\n",
      "219/219 [==============================] - 14s 65ms/step - loss: 0.2622 - accuracy: 0.8991\n",
      "Epoch 29/100\n",
      "219/219 [==============================] - 15s 68ms/step - loss: 0.2639 - accuracy: 0.9009\n",
      "Epoch 30/100\n",
      "219/219 [==============================] - 15s 68ms/step - loss: 0.2626 - accuracy: 0.8980\n",
      "Epoch 31/100\n",
      "219/219 [==============================] - 14s 63ms/step - loss: 0.2621 - accuracy: 0.8974\n",
      "Epoch 32/100\n",
      "219/219 [==============================] - 14s 66ms/step - loss: 0.2613 - accuracy: 0.8977\n",
      "Epoch 33/100\n",
      "219/219 [==============================] - 15s 67ms/step - loss: 0.2552 - accuracy: 0.9014\n",
      "Epoch 34/100\n",
      "219/219 [==============================] - 15s 69ms/step - loss: 0.2517 - accuracy: 0.9011\n",
      "Epoch 35/100\n",
      "219/219 [==============================] - 15s 67ms/step - loss: 0.2588 - accuracy: 0.8983\n",
      "Epoch 36/100\n",
      "219/219 [==============================] - 15s 67ms/step - loss: 0.2526 - accuracy: 0.9034\n",
      "Epoch 37/100\n",
      "219/219 [==============================] - 14s 66ms/step - loss: 0.2526 - accuracy: 0.9006\n",
      "Epoch 38/100\n",
      "219/219 [==============================] - 14s 66ms/step - loss: 0.2494 - accuracy: 0.9057\n",
      "Epoch 39/100\n",
      "219/219 [==============================] - 15s 68ms/step - loss: 0.2488 - accuracy: 0.9080\n",
      "Epoch 40/100\n",
      "219/219 [==============================] - 15s 67ms/step - loss: 0.2505 - accuracy: 0.9060\n",
      "Epoch 41/100\n",
      "219/219 [==============================] - 15s 68ms/step - loss: 0.2444 - accuracy: 0.9066\n",
      "Epoch 42/100\n",
      "219/219 [==============================] - 15s 67ms/step - loss: 0.2458 - accuracy: 0.9069\n",
      "Epoch 43/100\n",
      "219/219 [==============================] - 15s 66ms/step - loss: 0.2434 - accuracy: 0.9060\n",
      "Epoch 44/100\n",
      "219/219 [==============================] - 14s 66ms/step - loss: 0.2494 - accuracy: 0.9029\n",
      "Epoch 45/100\n",
      "219/219 [==============================] - 14s 66ms/step - loss: 0.2481 - accuracy: 0.9031\n",
      "Epoch 46/100\n",
      "219/219 [==============================] - 15s 68ms/step - loss: 0.2485 - accuracy: 0.9066\n",
      "Epoch 47/100\n",
      "219/219 [==============================] - 15s 67ms/step - loss: 0.2413 - accuracy: 0.9083\n",
      "Epoch 48/100\n",
      "219/219 [==============================] - 15s 67ms/step - loss: 0.2421 - accuracy: 0.9083\n",
      "Epoch 49/100\n",
      "219/219 [==============================] - 14s 66ms/step - loss: 0.2463 - accuracy: 0.9046\n",
      "Epoch 50/100\n",
      "219/219 [==============================] - 15s 66ms/step - loss: 0.2419 - accuracy: 0.9071\n",
      "Epoch 51/100\n",
      "219/219 [==============================] - 15s 69ms/step - loss: 0.2406 - accuracy: 0.9080\n",
      "Epoch 52/100\n",
      "219/219 [==============================] - 15s 68ms/step - loss: 0.2432 - accuracy: 0.9074\n",
      "Epoch 53/100\n",
      "219/219 [==============================] - 15s 67ms/step - loss: 0.2400 - accuracy: 0.9083\n",
      "Epoch 54/100\n",
      "219/219 [==============================] - 15s 67ms/step - loss: 0.2401 - accuracy: 0.9100\n",
      "Epoch 55/100\n",
      "219/219 [==============================] - 15s 67ms/step - loss: 0.2396 - accuracy: 0.9083\n",
      "Epoch 56/100\n",
      "219/219 [==============================] - 15s 67ms/step - loss: 0.2462 - accuracy: 0.9049\n",
      "Epoch 57/100\n",
      "219/219 [==============================] - 14s 65ms/step - loss: 0.2383 - accuracy: 0.9091\n",
      "Epoch 58/100\n",
      "219/219 [==============================] - 14s 66ms/step - loss: 0.2353 - accuracy: 0.9094\n",
      "Epoch 59/100\n",
      "219/219 [==============================] - 15s 68ms/step - loss: 0.2368 - accuracy: 0.9106\n",
      "Epoch 60/100\n",
      "219/219 [==============================] - 14s 66ms/step - loss: 0.2364 - accuracy: 0.9100\n",
      "Epoch 61/100\n",
      "219/219 [==============================] - 15s 67ms/step - loss: 0.2392 - accuracy: 0.9074\n",
      "Epoch 62/100\n",
      "219/219 [==============================] - 15s 67ms/step - loss: 0.2439 - accuracy: 0.9054\n",
      "Epoch 63/100\n",
      "219/219 [==============================] - 14s 66ms/step - loss: 0.2373 - accuracy: 0.9100\n",
      "Epoch 64/100\n",
      "219/219 [==============================] - 15s 67ms/step - loss: 0.2353 - accuracy: 0.9100\n",
      "Epoch 65/100\n",
      "219/219 [==============================] - 14s 65ms/step - loss: 0.2332 - accuracy: 0.9086\n",
      "Epoch 66/100\n",
      "219/219 [==============================] - 15s 67ms/step - loss: 0.2351 - accuracy: 0.9097\n",
      "Epoch 67/100\n",
      "219/219 [==============================] - 16s 72ms/step - loss: 0.2329 - accuracy: 0.9106\n",
      "Epoch 68/100\n",
      "219/219 [==============================] - 13s 59ms/step - loss: 0.2346 - accuracy: 0.9094\n",
      "Epoch 69/100\n",
      "219/219 [==============================] - 12s 57ms/step - loss: 0.2302 - accuracy: 0.9106\n",
      "Epoch 70/100\n",
      "219/219 [==============================] - 12s 56ms/step - loss: 0.2327 - accuracy: 0.9100\n",
      "Epoch 71/100\n",
      "219/219 [==============================] - 13s 60ms/step - loss: 0.2325 - accuracy: 0.9126\n",
      "Epoch 72/100\n",
      "219/219 [==============================] - 13s 58ms/step - loss: 0.2462 - accuracy: 0.9017\n",
      "Epoch 73/100\n",
      "219/219 [==============================] - 13s 58ms/step - loss: 0.2300 - accuracy: 0.9123\n",
      "Epoch 74/100\n",
      "219/219 [==============================] - 13s 58ms/step - loss: 0.2311 - accuracy: 0.9103\n",
      "Epoch 75/100\n",
      "219/219 [==============================] - 13s 59ms/step - loss: 0.2300 - accuracy: 0.9109\n",
      "Epoch 76/100\n",
      "219/219 [==============================] - 13s 59ms/step - loss: 0.2328 - accuracy: 0.9091\n",
      "Epoch 77/100\n",
      "219/219 [==============================] - 13s 57ms/step - loss: 0.2302 - accuracy: 0.9094\n",
      "Epoch 78/100\n",
      "219/219 [==============================] - 13s 57ms/step - loss: 0.2272 - accuracy: 0.9123\n",
      "Epoch 79/100\n",
      "219/219 [==============================] - 13s 60ms/step - loss: 0.2265 - accuracy: 0.9126\n",
      "Epoch 80/100\n",
      "219/219 [==============================] - 14s 65ms/step - loss: 0.2285 - accuracy: 0.9114\n",
      "Epoch 81/100\n",
      "219/219 [==============================] - 14s 65ms/step - loss: 0.2268 - accuracy: 0.9117\n",
      "Epoch 82/100\n",
      "219/219 [==============================] - 15s 66ms/step - loss: 0.2266 - accuracy: 0.9114\n",
      "Epoch 83/100\n",
      "219/219 [==============================] - 14s 66ms/step - loss: 0.2317 - accuracy: 0.9094\n",
      "Epoch 84/100\n",
      "219/219 [==============================] - 14s 64ms/step - loss: 0.2256 - accuracy: 0.9140\n",
      "Epoch 85/100\n",
      "219/219 [==============================] - 15s 67ms/step - loss: 0.2289 - accuracy: 0.9114\n",
      "Epoch 86/100\n",
      "219/219 [==============================] - 15s 66ms/step - loss: 0.2392 - accuracy: 0.9051\n",
      "Epoch 87/100\n",
      "219/219 [==============================] - 14s 65ms/step - loss: 0.2281 - accuracy: 0.9097\n",
      "Epoch 88/100\n",
      "219/219 [==============================] - 15s 67ms/step - loss: 0.2294 - accuracy: 0.9103\n",
      "Epoch 89/100\n",
      "219/219 [==============================] - 15s 67ms/step - loss: 0.2253 - accuracy: 0.9126\n",
      "Epoch 90/100\n",
      "219/219 [==============================] - 14s 65ms/step - loss: 0.2311 - accuracy: 0.9094\n",
      "Epoch 91/100\n",
      "219/219 [==============================] - 14s 66ms/step - loss: 0.2231 - accuracy: 0.9129\n",
      "Epoch 92/100\n",
      "219/219 [==============================] - 15s 68ms/step - loss: 0.2289 - accuracy: 0.9129\n",
      "Epoch 93/100\n",
      "219/219 [==============================] - 15s 69ms/step - loss: 0.2253 - accuracy: 0.9134\n",
      "Epoch 94/100\n",
      "219/219 [==============================] - 15s 66ms/step - loss: 0.2249 - accuracy: 0.9114\n",
      "Epoch 95/100\n",
      "219/219 [==============================] - 14s 66ms/step - loss: 0.2228 - accuracy: 0.9111\n",
      "Epoch 96/100\n",
      "219/219 [==============================] - 15s 67ms/step - loss: 0.2198 - accuracy: 0.9160\n",
      "Epoch 97/100\n",
      "219/219 [==============================] - 15s 68ms/step - loss: 0.2222 - accuracy: 0.9123\n",
      "Epoch 98/100\n",
      "219/219 [==============================] - 14s 65ms/step - loss: 0.2205 - accuracy: 0.9151\n",
      "Epoch 99/100\n",
      "219/219 [==============================] - 14s 66ms/step - loss: 0.2336 - accuracy: 0.9100\n",
      "Epoch 100/100\n",
      "219/219 [==============================] - 14s 65ms/step - loss: 0.2227 - accuracy: 0.9129\n"
     ]
    },
    {
     "data": {
      "text/plain": [
       "<keras.src.callbacks.History at 0x7fbde02e7fd0>"
      ]
     },
     "execution_count": 12,
     "metadata": {},
     "output_type": "execute_result"
    }
   ],
   "source": [
    "def create_cnn(n_features):\n",
    "    ae_detector_dnn = tf.keras.Sequential(\n",
    "        layers=[\n",
    "            tf.keras.layers.Convolution1D(2048, 3, padding='same', activation='relu', input_shape=(n_features,1)),\n",
    "            tf.keras.layers.MaxPooling1D(pool_size=4),\n",
    "            tf.keras.layers.Convolution1D(512, 3, padding='same', activation='relu'),\n",
    "            tf.keras.layers.MaxPooling1D(pool_size=4),\n",
    "            tf.keras.layers.Flatten(),\n",
    "            tf.keras.layers.Dense(512, activation='relu'),\n",
    "            tf.keras.layers.Dense(2, activation='softmax'),\n",
    "        ]\n",
    "    )\n",
    "    \n",
    "    ae_detector_dnn.compile(\n",
    "        loss=tf.keras.losses.CategoricalCrossentropy(),\n",
    "        optimizer=tf.keras.optimizers.Adam(),\n",
    "        metrics=['accuracy']\n",
    "    )\n",
    "    \n",
    "    return ae_detector_dnn\n",
    "\n",
    "ae_detector_cnn = create_cnn(x_defense_train.shape[1])\n",
    "ae_detector_cnn.fit(x_defense_train, y_defense_train, epochs=100, batch_size=16)"
   ]
  },
  {
   "cell_type": "markdown",
   "metadata": {},
   "source": [
    "# EVALUATE"
   ]
  },
  {
   "cell_type": "markdown",
   "metadata": {},
   "source": [
    "RQ1: on test-set from defense data"
   ]
  },
  {
   "cell_type": "code",
   "execution_count": 13,
   "metadata": {},
   "outputs": [
    {
     "name": "stdout",
     "output_type": "stream",
     "text": [
      "110/110 [==============================] - 1s 12ms/step\n"
     ]
    },
    {
     "data": {
      "text/plain": [
       "{'confusion_matrix': array([[1724,   26],\n",
       "        [ 270, 1480]]),\n",
       " 'accuracy_score': 0.9154285714285715,\n",
       " 'precision_score': 0.9154285714285715,\n",
       " 'recall_score': 0.9154285714285715,\n",
       " 'f1_score': 0.9154285714285715}"
      ]
     },
     "execution_count": 13,
     "metadata": {},
     "output_type": "execute_result"
    }
   ],
   "source": [
    "evaluate_metric(y_pred=ae_detector_cnn.predict(x_defense_train), y_true=y_defense_train)"
   ]
  },
  {
   "cell_type": "code",
   "execution_count": 14,
   "metadata": {},
   "outputs": [
    {
     "name": "stdout",
     "output_type": "stream",
     "text": [
      "29/29 [==============================] - 0s 13ms/step\n"
     ]
    },
    {
     "data": {
      "text/plain": [
       "{'confusion_matrix': array([[118,  32],\n",
       "        [151, 599]]),\n",
       " 'accuracy_score': 0.7966666666666666,\n",
       " 'precision_score': 0.7966666666666666,\n",
       " 'recall_score': 0.7966666666666666,\n",
       " 'f1_score': 0.7966666666666665}"
      ]
     },
     "execution_count": 14,
     "metadata": {},
     "output_type": "execute_result"
    }
   ],
   "source": [
    "evaluate_metric(y_pred=ae_detector_cnn.predict(x_defense_test), y_true=y_defense_test)"
   ]
  },
  {
   "cell_type": "markdown",
   "metadata": {},
   "source": [
    "RQ2: on random test set"
   ]
  },
  {
   "cell_type": "code",
   "execution_count": null,
   "metadata": {},
   "outputs": [],
   "source": [
    "dnn = tf.keras.models.load_model(\"NSL-KDD/dnn.h5\")\n",
    "\n",
    "X_train = pd.read_csv(\"NSL-KDD/X_train.csv\").drop(columns=['Unnamed: 0'])\n",
    "X_test = pd.read_csv(\"NSL-KDD/X_test.csv\").drop(columns=['Unnamed: 0'])\n",
    "y_test = pd.read_csv(\"NSL-KDD/y_test.csv\").drop(columns=['Unnamed: 0'])\n",
    "\n",
    "\n",
    "loss_object = tf.keras.losses.CategoricalCrossentropy()\n",
    "optimizer = tf.keras.optimizers.Adam(learning_rate=0.001)\n",
    "dnn_model = TensorFlowV2Classifier(\n",
    "    model=dnn,\n",
    "    loss_object=loss_object,\n",
    "    optimizer=optimizer,\n",
    "    nb_classes=5,\n",
    "    input_shape=X_train.shape\n",
    ")\n",
    "\n",
    "test_samples = X_test.sample(n=500)\n",
    "y_test_samples = y_test.iloc[test_samples.index]\n",
    "ae_data, label_ae_data = generate_testset(\n",
    "    dnn_model,\n",
    "    test_samples,\n",
    "    y_test_samples,\n",
    "    selected_features,\n",
    "    40\n",
    ")\n",
    "ae_data.to_csv(\"NSL-KDD/defense/test/data.csv\")\n",
    "pd.DataFrame(label_ae_data, columns=['label']).to_csv(\"NSL-KDD/defense/test/y_data.csv\")"
   ]
  },
  {
   "cell_type": "code",
   "execution_count": 16,
   "metadata": {},
   "outputs": [
    {
     "name": "stdout",
     "output_type": "stream",
     "text": [
      "16/16 [==============================] - 0s 15ms/step\n"
     ]
    },
    {
     "data": {
      "text/plain": [
       "{'confusion_matrix': array([[ 78,   6],\n",
       "        [365,  51]]),\n",
       " 'accuracy_score': 0.258,\n",
       " 'precision_score': 0.258,\n",
       " 'recall_score': 0.258,\n",
       " 'f1_score': 0.258}"
      ]
     },
     "execution_count": 16,
     "metadata": {},
     "output_type": "execute_result"
    }
   ],
   "source": [
    "evaluate_metric(y_pred=ae_detector_cnn.predict(ae_data[selected_features[:40]]), y_true=pd.get_dummies(label_ae_data)*1)"
   ]
  }
 ],
 "metadata": {
  "kernelspec": {
   "display_name": "Python 3",
   "language": "python",
   "name": "python3"
  },
  "language_info": {
   "codemirror_mode": {
    "name": "ipython",
    "version": 3
   },
   "file_extension": ".py",
   "mimetype": "text/x-python",
   "name": "python",
   "nbconvert_exporter": "python",
   "pygments_lexer": "ipython3",
   "version": "3.10.12"
  },
  "orig_nbformat": 4
 },
 "nbformat": 4,
 "nbformat_minor": 2
}
