{
 "cells": [
  {
   "cell_type": "code",
   "execution_count": null,
   "metadata": {},
   "outputs": [],
   "source": [
    "from defense.generate_dataset import generate_defense_set, generate_testset\n",
    "import tensorflow as tf\n",
    "import pandas as pd\n",
    "import numpy as np\n",
    "from art.estimators.classification import TensorFlowV2Classifier\n",
    "from evaluation_metric import evaluate_metric"
   ]
  },
  {
   "cell_type": "markdown",
   "metadata": {},
   "source": [
    "# TRAIN DETECTOR"
   ]
  },
  {
   "cell_type": "code",
   "execution_count": null,
   "metadata": {},
   "outputs": [],
   "source": [
    "# from defense.generate_dataset import generate_dataset\n",
    "\n",
    "samples = pd.read_csv(\"NSL-KDD/samples/X_train.csv\").drop(columns=[\"Unnamed: 0\"])\n",
    "y_samples = pd.read_csv(\"NSL-KDD/samples/y_train.csv\").drop(columns=[\"Unnamed: 0\"])\n",
    "\n",
    "fsgm_samples = pd.read_csv(\"NSL-KDD/samples/attack/X_FSGM_train.csv\").drop(columns=[\"Unnamed: 0\"])\n",
    "bim_samples = pd.read_csv(\"NSL-KDD/samples/attack/X_BIM_train.csv\").drop(columns=[\"Unnamed: 0\"])\n",
    "jsma_samples = pd.read_csv(\"NSL-KDD/samples/attack/X_JSMA_train.csv\").drop(columns=[\"Unnamed: 0\"])\n",
    "deepfool_samples = pd.read_csv(\"NSL-KDD/samples/attack/X_DeepFool_train.csv\").drop(columns=[\"Unnamed: 0\"])\n",
    "\n",
    "full_features = samples.columns\n",
    "shap_importance_df = pd.read_csv(\"NSL-KDD/samples/shap_importance.csv\").drop(columns=[\"Unnamed: 0\"])\n",
    "selected_features = shap_importance_df.loc[shap_importance_df['shap_importance'] > 0]['column_name'].values\n",
    "shap_importance_feature_values = shap_importance_df.loc[shap_importance_df['shap_importance'] > 0]['shap_importance'].values"
   ]
  },
  {
   "cell_type": "code",
   "execution_count": null,
   "metadata": {},
   "outputs": [],
   "source": [
    "from imblearn.over_sampling import SMOTE\n",
    "\n",
    "defense_data = generate_defense_set(\n",
    "    samples,\n",
    "    fsgm_samples,\n",
    "    bim_samples,\n",
    "    jsma_samples,\n",
    "    deepfool_samples,\n",
    "    selected_features,\n",
    "    shap_importance_feature_values,\n",
    "    50\n",
    ")\n",
    "from sklearn.model_selection import train_test_split\n",
    "x_defense_train, x_defense_test, y_defense_train, y_defense_test = train_test_split(\n",
    "    defense_data.drop(columns=['label']),\n",
    "    defense_data['label'],\n",
    "    test_size=0.3,\n",
    "    stratify=defense_data['label']\n",
    ")\n",
    "\n",
    "balance_defense = SMOTE(sampling_strategy={0:1750})\n",
    "\n",
    "x_defense_train, y_defense_train = balance_defense.fit_resample(x_defense_train, y_defense_train)\n",
    "\n",
    "x_defense_train = np.reshape(x_defense_train, (x_defense_train.shape[0], x_defense_train.shape[1], 1))\n",
    "x_defense_test = np.reshape(x_defense_test, (x_defense_test.shape[0], x_defense_test.shape[1], 1))\n",
    "y_defense_train = pd.get_dummies(y_defense_train)*1\n",
    "y_defense_test = pd.get_dummies(y_defense_test)*1"
   ]
  },
  {
   "cell_type": "code",
   "execution_count": null,
   "metadata": {},
   "outputs": [],
   "source": [
    "def create_cnn(n_features):\n",
    "    ae_detector_dnn = tf.keras.Sequential(\n",
    "        layers=[\n",
    "            tf.keras.layers.Convolution1D(2048, 3, padding='same', activation='relu', input_shape=(n_features,1)),\n",
    "            tf.keras.layers.MaxPooling1D(pool_size=4),\n",
    "            tf.keras.layers.Convolution1D(512, 3, padding='same', activation='relu'),\n",
    "            tf.keras.layers.MaxPooling1D(pool_size=4),\n",
    "            tf.keras.layers.Flatten(),\n",
    "            tf.keras.layers.Dense(512, activation='relu'),\n",
    "            tf.keras.layers.Dense(2, activation='softmax'),\n",
    "        ]\n",
    "    )\n",
    "    \n",
    "    ae_detector_dnn.compile(\n",
    "        loss=tf.keras.losses.CategoricalCrossentropy(),\n",
    "        optimizer=tf.keras.optimizers.Adam(),\n",
    "        metrics=['accuracy']\n",
    "    )\n",
    "    \n",
    "    return ae_detector_dnn\n",
    "\n",
    "ae_detector_cnn = create_cnn(x_defense_train.shape[1])\n",
    "ae_detector_cnn.fit(x_defense_train, y_defense_train, epochs=200, batch_size=16)"
   ]
  },
  {
   "cell_type": "markdown",
   "metadata": {},
   "source": [
    "# EVALUATE"
   ]
  },
  {
   "cell_type": "markdown",
   "metadata": {},
   "source": [
    "RQ1: on test-set from defense data"
   ]
  },
  {
   "cell_type": "code",
   "execution_count": null,
   "metadata": {},
   "outputs": [],
   "source": [
    "evaluate_metric(y_pred=ae_detector_cnn.predict(x_defense_train), y_true=y_defense_train)"
   ]
  },
  {
   "cell_type": "code",
   "execution_count": null,
   "metadata": {},
   "outputs": [],
   "source": [
    "y_defense_train.value_counts()"
   ]
  },
  {
   "cell_type": "code",
   "execution_count": null,
   "metadata": {},
   "outputs": [],
   "source": [
    "evaluate_metric(y_pred=ae_detector_cnn.predict(x_defense_test), y_true=y_defense_test)"
   ]
  },
  {
   "cell_type": "code",
   "execution_count": null,
   "metadata": {},
   "outputs": [],
   "source": [
    "y_defense_test.value_counts()"
   ]
  },
  {
   "cell_type": "markdown",
   "metadata": {},
   "source": [
    "RQ2: on random test set"
   ]
  },
  {
   "cell_type": "code",
   "execution_count": null,
   "metadata": {},
   "outputs": [],
   "source": [
    "dnn = tf.keras.models.load_model(\"NSL-KDD/dnn.h5\")\n",
    "\n",
    "X_train = pd.read_csv(\"NSL-KDD/X_train.csv\").drop(columns=['Unnamed: 0'])\n",
    "y_train = pd.read_csv(\"NSL-KDD/y_train.csv\").drop(columns=['Unnamed: 0'])\n",
    "X_test = pd.read_csv(\"NSL-KDD/X_test.csv\").drop(columns=['Unnamed: 0'])\n",
    "y_test = pd.read_csv(\"NSL-KDD/y_test.csv\").drop(columns=['Unnamed: 0'])\n",
    "\n",
    "\n",
    "loss_object = tf.keras.losses.CategoricalCrossentropy()\n",
    "optimizer = tf.keras.optimizers.Adam(learning_rate=0.001)\n",
    "dnn_model = TensorFlowV2Classifier(\n",
    "    model=dnn,\n",
    "    loss_object=loss_object,\n",
    "    optimizer=optimizer,\n",
    "    nb_classes=5,\n",
    "    input_shape=X_train.shape\n",
    ")\n",
    "\n",
    "test_samples = X_test.sample(n=10000)\n",
    "y_test_samples = y_test.iloc[test_samples.index]\n",
    "ae_data, label_ae_data = generate_testset(\n",
    "    dnn_model,\n",
    "    test_samples,\n",
    "    y_test_samples,\n",
    "    selected_features,\n",
    "    50\n",
    ")\n",
    "ae_data.to_csv(\"NSL-KDD/defense/train-test/ae_x_train.csv\")\n",
    "pd.DataFrame(label_ae_data, columns=['label']).to_csv(\"NSL-KDD/defense/train-test/ae_y_train.csv\")"
   ]
  },
  {
   "cell_type": "code",
   "execution_count": null,
   "metadata": {},
   "outputs": [],
   "source": [
    "ae_data = pd.read_csv(\"NSL-KDD/defense/test/data.csv\").drop(columns=[\"Unnamed: 0\"])\n",
    "label_ae_data = pd.read_csv(\"NSL-KDD/defense/test/y_data.csv\").drop(columns=[\"Unnamed: 0\"])\n",
    "true_label = pd.get_dummies(label_ae_data, columns=['label'])*1\n",
    "_ae_data = ae_data[selected_features[:40]]\n",
    "_ae_data = np.reshape(_ae_data, (_ae_data.shape[0], _ae_data.shape[1], 1))\n",
    "evaluate_metric(y_pred=ae_detector_cnn.predict(_ae_data), y_true=true_label)"
   ]
  },
  {
   "cell_type": "code",
   "execution_count": null,
   "metadata": {},
   "outputs": [],
   "source": [
    "true_label.value_counts()"
   ]
  }
 ],
 "metadata": {
  "kernelspec": {
   "display_name": "Python 3",
   "language": "python",
   "name": "python3"
  },
  "language_info": {
   "codemirror_mode": {
    "name": "ipython",
    "version": 3
   },
   "file_extension": ".py",
   "mimetype": "text/x-python",
   "name": "python",
   "nbconvert_exporter": "python",
   "pygments_lexer": "ipython3",
   "version": "3.10.12"
  },
  "orig_nbformat": 4
 },
 "nbformat": 4,
 "nbformat_minor": 2
}
