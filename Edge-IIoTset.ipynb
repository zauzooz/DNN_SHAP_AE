{
 "cells": [
  {
   "cell_type": "code",
   "execution_count": 1,
   "metadata": {},
   "outputs": [],
   "source": [
    "import pandas as pd\n",
    "import numpy as np"
   ]
  },
  {
   "cell_type": "markdown",
   "metadata": {},
   "source": [
    "# Data Preprocessing"
   ]
  },
  {
   "cell_type": "code",
   "execution_count": 2,
   "metadata": {},
   "outputs": [
    {
     "name": "stderr",
     "output_type": "stream",
     "text": [
      "/tmp/ipykernel_5413/2263545714.py:1: DtypeWarning: Columns (2,3,6,11,13,14,15,16,17,31,32,34,39,45,51,54,55) have mixed types. Specify dtype option on import or set low_memory=False.\n",
      "  df = pd.read_csv(\"Edge-IIoTset/DNN-EdgeIIoT-dataset.csv\", low_memory=True)\n"
     ]
    }
   ],
   "source": [
    "df = pd.read_csv(\"Edge-IIoTset/DNN-EdgeIIoT-dataset.csv\", low_memory=True)"
   ]
  },
  {
   "cell_type": "code",
   "execution_count": 3,
   "metadata": {},
   "outputs": [
    {
     "data": {
      "text/html": [
       "<div>\n",
       "<style scoped>\n",
       "    .dataframe tbody tr th:only-of-type {\n",
       "        vertical-align: middle;\n",
       "    }\n",
       "\n",
       "    .dataframe tbody tr th {\n",
       "        vertical-align: top;\n",
       "    }\n",
       "\n",
       "    .dataframe thead th {\n",
       "        text-align: right;\n",
       "    }\n",
       "</style>\n",
       "<table border=\"1\" class=\"dataframe\">\n",
       "  <thead>\n",
       "    <tr style=\"text-align: right;\">\n",
       "      <th></th>\n",
       "      <th>frame.time</th>\n",
       "      <th>ip.src_host</th>\n",
       "      <th>ip.dst_host</th>\n",
       "      <th>arp.dst.proto_ipv4</th>\n",
       "      <th>arp.opcode</th>\n",
       "      <th>arp.hw.size</th>\n",
       "      <th>arp.src.proto_ipv4</th>\n",
       "      <th>icmp.checksum</th>\n",
       "      <th>icmp.seq_le</th>\n",
       "      <th>icmp.transmit_timestamp</th>\n",
       "      <th>...</th>\n",
       "      <th>mqtt.proto_len</th>\n",
       "      <th>mqtt.protoname</th>\n",
       "      <th>mqtt.topic</th>\n",
       "      <th>mqtt.topic_len</th>\n",
       "      <th>mqtt.ver</th>\n",
       "      <th>mbtcp.len</th>\n",
       "      <th>mbtcp.trans_id</th>\n",
       "      <th>mbtcp.unit_id</th>\n",
       "      <th>Attack_label</th>\n",
       "      <th>Attack_type</th>\n",
       "    </tr>\n",
       "  </thead>\n",
       "  <tbody>\n",
       "    <tr>\n",
       "      <th>0</th>\n",
       "      <td>2021 11:44:10.081753000</td>\n",
       "      <td>192.168.0.128</td>\n",
       "      <td>192.168.0.101</td>\n",
       "      <td>0</td>\n",
       "      <td>0.0</td>\n",
       "      <td>0.0</td>\n",
       "      <td>0</td>\n",
       "      <td>0.0</td>\n",
       "      <td>0.0</td>\n",
       "      <td>0.0</td>\n",
       "      <td>...</td>\n",
       "      <td>0.0</td>\n",
       "      <td>0</td>\n",
       "      <td>0</td>\n",
       "      <td>0.0</td>\n",
       "      <td>0.0</td>\n",
       "      <td>0.0</td>\n",
       "      <td>0.0</td>\n",
       "      <td>0.0</td>\n",
       "      <td>0</td>\n",
       "      <td>Normal</td>\n",
       "    </tr>\n",
       "    <tr>\n",
       "      <th>1</th>\n",
       "      <td>2021 11:44:10.162218000</td>\n",
       "      <td>192.168.0.101</td>\n",
       "      <td>192.168.0.128</td>\n",
       "      <td>0</td>\n",
       "      <td>0.0</td>\n",
       "      <td>0.0</td>\n",
       "      <td>0</td>\n",
       "      <td>0.0</td>\n",
       "      <td>0.0</td>\n",
       "      <td>0.0</td>\n",
       "      <td>...</td>\n",
       "      <td>4.0</td>\n",
       "      <td>MQTT</td>\n",
       "      <td>0</td>\n",
       "      <td>0.0</td>\n",
       "      <td>4.0</td>\n",
       "      <td>0.0</td>\n",
       "      <td>0.0</td>\n",
       "      <td>0.0</td>\n",
       "      <td>0</td>\n",
       "      <td>Normal</td>\n",
       "    </tr>\n",
       "    <tr>\n",
       "      <th>2</th>\n",
       "      <td>2021 11:44:10.162271000</td>\n",
       "      <td>192.168.0.128</td>\n",
       "      <td>192.168.0.101</td>\n",
       "      <td>0</td>\n",
       "      <td>0.0</td>\n",
       "      <td>0.0</td>\n",
       "      <td>0</td>\n",
       "      <td>0.0</td>\n",
       "      <td>0.0</td>\n",
       "      <td>0.0</td>\n",
       "      <td>...</td>\n",
       "      <td>0.0</td>\n",
       "      <td>0</td>\n",
       "      <td>0</td>\n",
       "      <td>0.0</td>\n",
       "      <td>0.0</td>\n",
       "      <td>0.0</td>\n",
       "      <td>0.0</td>\n",
       "      <td>0.0</td>\n",
       "      <td>0</td>\n",
       "      <td>Normal</td>\n",
       "    </tr>\n",
       "    <tr>\n",
       "      <th>3</th>\n",
       "      <td>2021 11:44:10.162641000</td>\n",
       "      <td>192.168.0.128</td>\n",
       "      <td>192.168.0.101</td>\n",
       "      <td>0</td>\n",
       "      <td>0.0</td>\n",
       "      <td>0.0</td>\n",
       "      <td>0</td>\n",
       "      <td>0.0</td>\n",
       "      <td>0.0</td>\n",
       "      <td>0.0</td>\n",
       "      <td>...</td>\n",
       "      <td>0.0</td>\n",
       "      <td>0</td>\n",
       "      <td>0</td>\n",
       "      <td>0.0</td>\n",
       "      <td>0.0</td>\n",
       "      <td>0.0</td>\n",
       "      <td>0.0</td>\n",
       "      <td>0.0</td>\n",
       "      <td>0</td>\n",
       "      <td>Normal</td>\n",
       "    </tr>\n",
       "    <tr>\n",
       "      <th>4</th>\n",
       "      <td>2021 11:44:10.166132000</td>\n",
       "      <td>192.168.0.101</td>\n",
       "      <td>192.168.0.128</td>\n",
       "      <td>0</td>\n",
       "      <td>0.0</td>\n",
       "      <td>0.0</td>\n",
       "      <td>0</td>\n",
       "      <td>0.0</td>\n",
       "      <td>0.0</td>\n",
       "      <td>0.0</td>\n",
       "      <td>...</td>\n",
       "      <td>0.0</td>\n",
       "      <td>0</td>\n",
       "      <td>Temperature_and_Humidity</td>\n",
       "      <td>24.0</td>\n",
       "      <td>0.0</td>\n",
       "      <td>0.0</td>\n",
       "      <td>0.0</td>\n",
       "      <td>0.0</td>\n",
       "      <td>0</td>\n",
       "      <td>Normal</td>\n",
       "    </tr>\n",
       "  </tbody>\n",
       "</table>\n",
       "<p>5 rows × 63 columns</p>\n",
       "</div>"
      ],
      "text/plain": [
       "                  frame.time    ip.src_host    ip.dst_host arp.dst.proto_ipv4  \\\n",
       "0   2021 11:44:10.081753000   192.168.0.128  192.168.0.101                  0   \n",
       "1   2021 11:44:10.162218000   192.168.0.101  192.168.0.128                  0   \n",
       "2   2021 11:44:10.162271000   192.168.0.128  192.168.0.101                  0   \n",
       "3   2021 11:44:10.162641000   192.168.0.128  192.168.0.101                  0   \n",
       "4   2021 11:44:10.166132000   192.168.0.101  192.168.0.128                  0   \n",
       "\n",
       "   arp.opcode  arp.hw.size arp.src.proto_ipv4  icmp.checksum  icmp.seq_le  \\\n",
       "0         0.0          0.0                  0            0.0          0.0   \n",
       "1         0.0          0.0                  0            0.0          0.0   \n",
       "2         0.0          0.0                  0            0.0          0.0   \n",
       "3         0.0          0.0                  0            0.0          0.0   \n",
       "4         0.0          0.0                  0            0.0          0.0   \n",
       "\n",
       "   icmp.transmit_timestamp  ...  mqtt.proto_len mqtt.protoname  \\\n",
       "0                      0.0  ...             0.0              0   \n",
       "1                      0.0  ...             4.0           MQTT   \n",
       "2                      0.0  ...             0.0              0   \n",
       "3                      0.0  ...             0.0              0   \n",
       "4                      0.0  ...             0.0              0   \n",
       "\n",
       "                 mqtt.topic mqtt.topic_len mqtt.ver mbtcp.len mbtcp.trans_id  \\\n",
       "0                         0            0.0      0.0       0.0            0.0   \n",
       "1                         0            0.0      4.0       0.0            0.0   \n",
       "2                         0            0.0      0.0       0.0            0.0   \n",
       "3                         0            0.0      0.0       0.0            0.0   \n",
       "4  Temperature_and_Humidity           24.0      0.0       0.0            0.0   \n",
       "\n",
       "  mbtcp.unit_id  Attack_label  Attack_type  \n",
       "0           0.0             0       Normal  \n",
       "1           0.0             0       Normal  \n",
       "2           0.0             0       Normal  \n",
       "3           0.0             0       Normal  \n",
       "4           0.0             0       Normal  \n",
       "\n",
       "[5 rows x 63 columns]"
      ]
     },
     "execution_count": 3,
     "metadata": {},
     "output_type": "execute_result"
    }
   ],
   "source": [
    "df.head()"
   ]
  },
  {
   "cell_type": "code",
   "execution_count": 4,
   "metadata": {},
   "outputs": [
    {
     "data": {
      "text/plain": [
       "arp.opcode                   0\n",
       "arp.hw.size                  0\n",
       "icmp.checksum                0\n",
       "icmp.seq_le                  0\n",
       "icmp.unused                  0\n",
       "http.content_length          0\n",
       "http.request.method          0\n",
       "http.referer                 0\n",
       "http.request.version         0\n",
       "http.response                0\n",
       "http.tls_port                0\n",
       "tcp.ack                      0\n",
       "tcp.ack_raw                  0\n",
       "tcp.checksum                 0\n",
       "tcp.connection.fin           0\n",
       "tcp.connection.rst           0\n",
       "tcp.connection.syn           0\n",
       "tcp.connection.synack        0\n",
       "tcp.flags                    0\n",
       "tcp.flags.ack                0\n",
       "tcp.len                      0\n",
       "tcp.seq                      0\n",
       "udp.stream                   0\n",
       "udp.time_delta               0\n",
       "dns.qry.name                 0\n",
       "dns.qry.name.len             0\n",
       "dns.qry.qu                   0\n",
       "dns.qry.type                 0\n",
       "dns.retransmission           0\n",
       "dns.retransmit_request       0\n",
       "dns.retransmit_request_in    0\n",
       "mqtt.conack.flags            0\n",
       "mqtt.conflag.cleansess       0\n",
       "mqtt.conflags                0\n",
       "mqtt.hdrflags                0\n",
       "mqtt.len                     0\n",
       "mqtt.msg_decoded_as          0\n",
       "mqtt.msgtype                 0\n",
       "mqtt.proto_len               0\n",
       "mqtt.protoname               0\n",
       "mqtt.topic                   0\n",
       "mqtt.topic_len               0\n",
       "mqtt.ver                     0\n",
       "mbtcp.len                    0\n",
       "mbtcp.trans_id               0\n",
       "mbtcp.unit_id                0\n",
       "Attack_label                 0\n",
       "Attack_type                  0\n",
       "dtype: int64"
      ]
     },
     "execution_count": 4,
     "metadata": {},
     "output_type": "execute_result"
    }
   ],
   "source": [
    "from sklearn.utils import shuffle\n",
    "drop_columns = [\"frame.time\", \"ip.src_host\", \"ip.dst_host\", \"arp.src.proto_ipv4\",\"arp.dst.proto_ipv4\", \n",
    "\n",
    "         \"http.file_data\",\"http.request.full_uri\",\"icmp.transmit_timestamp\",\n",
    "\n",
    "         \"http.request.uri.query\", \"tcp.options\",\"tcp.payload\",\"tcp.srcport\",\n",
    "\n",
    "         \"tcp.dstport\", \"udp.port\", \"mqtt.msg\"]\n",
    "\n",
    "df.drop(drop_columns, axis=1, inplace=True)\n",
    "\n",
    "df.dropna(axis=0, how='any', inplace=True)\n",
    "\n",
    "df.drop_duplicates(subset=None, keep=\"first\", inplace=True)\n",
    "\n",
    "df = shuffle(df)\n",
    "\n",
    "df.isna().sum()"
   ]
  },
  {
   "cell_type": "code",
   "execution_count": 5,
   "metadata": {},
   "outputs": [],
   "source": [
    "import numpy as np\n",
    "\n",
    "from sklearn.model_selection import train_test_split\n",
    "\n",
    "from sklearn.preprocessing import StandardScaler\n",
    "\n",
    "from sklearn import preprocessing\n",
    "\n",
    "def encode_text_dummy(df, name):\n",
    "\n",
    "    dummies = pd.get_dummies(df[name])\n",
    "\n",
    "    for x in dummies.columns:\n",
    "\n",
    "        dummy_name = f\"{name}-{x}\"\n",
    "\n",
    "        df[dummy_name] = dummies[x]\n",
    "        \n",
    "        df[dummy_name] *= 1\n",
    "\n",
    "    df.drop(name, axis=1, inplace=True)\n",
    "\n",
    "encode_text_dummy(df,'http.request.method')\n",
    "\n",
    "encode_text_dummy(df,'http.referer')\n",
    "\n",
    "encode_text_dummy(df,\"http.request.version\")\n",
    "\n",
    "encode_text_dummy(df,\"dns.qry.name.len\")\n",
    "\n",
    "encode_text_dummy(df,\"mqtt.conack.flags\")\n",
    "\n",
    "encode_text_dummy(df,\"mqtt.protoname\")\n",
    "\n",
    "encode_text_dummy(df,\"mqtt.topic\")\n"
   ]
  },
  {
   "cell_type": "code",
   "execution_count": 9,
   "metadata": {},
   "outputs": [],
   "source": [
    "X = df.drop(columns=['Attack_type', 'Attack_label'])\n",
    "# y_bin = df[['Attack_label']]\n",
    "y_mul = df[['Attack_type']]\n",
    "# y_mul_group\n",
    "del df"
   ]
  },
  {
   "cell_type": "code",
   "execution_count": 10,
   "metadata": {},
   "outputs": [],
   "source": [
    "from sklearn.model_selection import train_test_split\n",
    "X_train, X_test, y_train, y_test = train_test_split(X, y_mul, test_size=0.3)\n",
    "del X, y_mul"
   ]
  },
  {
   "cell_type": "code",
   "execution_count": 9,
   "metadata": {},
   "outputs": [
    {
     "name": "stdout",
     "output_type": "stream",
     "text": [
      "0\n"
     ]
    }
   ],
   "source": [
    "obj_exists = []\n",
    "for col in X_train.columns:\n",
    "  if X_train[col].dtype == object:\n",
    "    obj_exists.append(col)\n",
    "print(len(obj_exists))"
   ]
  },
  {
   "cell_type": "code",
   "execution_count": 11,
   "metadata": {},
   "outputs": [],
   "source": [
    "columns = X_train.columns\n",
    "from sklearn.preprocessing import MinMaxScaler\n",
    "scaler = MinMaxScaler()\n",
    "scaler.fit(X_train)\n",
    "X_train = scaler.transform(X_train)\n",
    "X_test = scaler.transform(X_test)"
   ]
  },
  {
   "cell_type": "code",
   "execution_count": 11,
   "metadata": {},
   "outputs": [
    {
     "data": {
      "text/plain": [
       "Attack_type          \n",
       "Normal                   954924\n",
       "DDoS_UDP                  84885\n",
       "DDoS_ICMP                 47384\n",
       "SQL_injection             35567\n",
       "Vulnerability_scanner     35104\n",
       "DDoS_TCP                  34981\n",
       "Password                  34973\n",
       "DDoS_HTTP                 33849\n",
       "Uploading                 25859\n",
       "Backdoor                  16901\n",
       "Port_Scanning             14070\n",
       "XSS                       10607\n",
       "Ransomware                 6804\n",
       "Fingerprinting              595\n",
       "MITM                        266\n",
       "Name: count, dtype: int64"
      ]
     },
     "execution_count": 11,
     "metadata": {},
     "output_type": "execute_result"
    }
   ],
   "source": [
    "y_train.value_counts()"
   ]
  },
  {
   "cell_type": "code",
   "execution_count": 12,
   "metadata": {},
   "outputs": [],
   "source": [
    "from imblearn.over_sampling import SMOTE\n",
    "\n",
    "minority_classes = [\n",
    "    # 'Port_Scanning',\n",
    "    # 'XSS',\n",
    "    'Ransomware',\n",
    "    'Fingerprinting',\n",
    "    'MITM']\n",
    "\n",
    "desired_samples = {\n",
    "    # 'Port_Scanning': 20000,\n",
    "    # 'XSS': 20000,\n",
    "    'Ransomware': 15000,\n",
    "    'Fingerprinting': 15000,\n",
    "    'MITM': 15000\n",
    "}\n",
    "\n",
    "smote = SMOTE(sampling_strategy=desired_samples)\n",
    "X_train, y_train = smote.fit_resample(X_train, y_train)"
   ]
  },
  {
   "cell_type": "code",
   "execution_count": 12,
   "metadata": {},
   "outputs": [],
   "source": [
    "X_train = pd.DataFrame(X_train, columns=columns)\n",
    "X_test = pd.DataFrame(X_test, columns=columns)"
   ]
  },
  {
   "cell_type": "code",
   "execution_count": 13,
   "metadata": {},
   "outputs": [],
   "source": [
    "from sklearn.preprocessing import OneHotEncoder\n",
    "ohe = OneHotEncoder()\n",
    "ohe.fit(y_train)\n",
    "y_train = pd.DataFrame(\n",
    "    ohe.transform(y_train).toarray(),\n",
    "    columns=ohe.categories_\n",
    ")\n",
    "y_test = pd.DataFrame(\n",
    "    ohe.transform(y_test).toarray(),\n",
    "    columns=ohe.categories_\n",
    ")\n",
    "y_train = y_train.astype('int8')\n",
    "y_test = y_test.astype('int8')"
   ]
  },
  {
   "cell_type": "code",
   "execution_count": null,
   "metadata": {},
   "outputs": [],
   "source": [
    "X_train.to_csv(\"Edge-IIoTset/X_train.csv\", index_label=False)\n",
    "X_test.to_csv(\"Edge-IIoTset/X_test.csv\", index_label=False)\n",
    "y_train.to_csv(\"Edge-IIoTset/y_train.csv\", index_label=False)\n",
    "y_test.to_csv(\"Edge-IIoTset.y_test.csv\", index_label=False)"
   ]
  },
  {
   "cell_type": "markdown",
   "metadata": {},
   "source": [
    "# DNN Model"
   ]
  },
  {
   "cell_type": "code",
   "execution_count": 14,
   "metadata": {},
   "outputs": [
    {
     "name": "stderr",
     "output_type": "stream",
     "text": [
      "2023-07-11 15:12:34.422288: I tensorflow/tsl/cuda/cudart_stub.cc:28] Could not find cuda drivers on your machine, GPU will not be used.\n",
      "2023-07-11 15:12:36.345165: I tensorflow/tsl/cuda/cudart_stub.cc:28] Could not find cuda drivers on your machine, GPU will not be used.\n",
      "2023-07-11 15:12:36.347404: I tensorflow/core/platform/cpu_feature_guard.cc:182] This TensorFlow binary is optimized to use available CPU instructions in performance-critical operations.\n",
      "To enable the following instructions: AVX2 FMA, in other operations, rebuild TensorFlow with the appropriate compiler flags.\n",
      "2023-07-11 15:12:42.168516: W tensorflow/compiler/tf2tensorrt/utils/py_utils.cc:38] TF-TRT Warning: Could not find TensorRT\n"
     ]
    }
   ],
   "source": [
    "import tensorflow as tf\n",
    "n_classes = 15\n",
    "layers = [\n",
    "  tf.keras.layers.Dense(X_train.shape[0], activation='relu', input_shape=(X_train.shape[1],)),\n",
    "  tf.keras.layers.Dense(100, activation='relu'),\n",
    "  tf.keras.layers.Dense(100, activation='relu'),\n",
    "  tf.keras.layers.Dense(n_classes, activation='softmax')\n",
    "]"
   ]
  },
  {
   "cell_type": "code",
   "execution_count": null,
   "metadata": {},
   "outputs": [],
   "source": [
    "dnn = tf.keras.Sequential(layers)\n",
    "dnn.compile(\n",
    "    loss=tf.keras.losses.CategoricalCrossentropy(),\n",
    "    optimizer=tf.keras.optimizers.Adam(learning_rate = 0.001),\n",
    "    metrics = ['accuracy',\n",
    "               tf.keras.metrics.Precision(),\n",
    "               tf.keras.metrics.Recall()\n",
    "              ]\n",
    "    )\n",
    "dnn.fit(x=X_train, y=y_train.values, epochs=5, batch_size=1024)"
   ]
  }
 ],
 "metadata": {
  "kernelspec": {
   "display_name": "Python 3",
   "language": "python",
   "name": "python3"
  },
  "language_info": {
   "codemirror_mode": {
    "name": "ipython",
    "version": 3
   },
   "file_extension": ".py",
   "mimetype": "text/x-python",
   "name": "python",
   "nbconvert_exporter": "python",
   "pygments_lexer": "ipython3",
   "version": "3.10.12"
  },
  "orig_nbformat": 4
 },
 "nbformat": 4,
 "nbformat_minor": 2
}
